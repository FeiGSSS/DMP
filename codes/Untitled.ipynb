{
 "cells": [
  {
   "cell_type": "code",
   "execution_count": 39,
   "metadata": {},
   "outputs": [],
   "source": [
    "import numpy as np"
   ]
  },
  {
   "cell_type": "code",
   "execution_count": 4,
   "metadata": {},
   "outputs": [],
   "source": [
    "import torch as T\n",
    "import torch.nn.functional as F\n",
    "import torch.optim as optim\n",
    "from dmp_ic import DMP_IC\n",
    "\n",
    "import time\n",
    "t0 = time.time()\n",
    "\n",
    "T.cuda.set_device(1)\n",
    "\n",
    "#net_path = \"data/NetHEPT.npy\"\n",
    "net_path = \"data/BA_100.npy\"\n",
    "#net_path = \"data/baseline.npy\"\n",
    "IC = DMP_IC(net_path)"
   ]
  },
  {
   "cell_type": "markdown",
   "metadata": {},
   "source": [
    "# True Greedy"
   ]
  },
  {
   "cell_type": "code",
   "execution_count": 129,
   "metadata": {},
   "outputs": [],
   "source": [
    "from mc_ic import MC_IC\n",
    "import numpy as np\n",
    "\n",
    "def true_greedy(K):\n",
    "    N = IC.N\n",
    "    Seeds = []\n",
    "    old_inf = 0\n",
    "\n",
    "    for i in range(K):\n",
    "        aug_inf = -1\n",
    "        new_node = -1\n",
    "        for n in range(N):\n",
    "            if n not in Seeds:\n",
    "                #S = T.zeros(N)\n",
    "                #S[Seeds+[n]] = 1\n",
    "                #inf = IC.run(S)[-1].item()\n",
    "                inf = MC_IC(net_path, Seeds+[n], mc=1000)[-1]\n",
    "                if inf-old_inf > aug_inf:\n",
    "                    new_node = n\n",
    "                    aug_inf = inf-old_inf\n",
    "            #if (n+1)%10 == 0:\n",
    "            #    print(n, \"time={:.2f}s\".format(time.time()-t0))\n",
    "        Seeds += [new_node]\n",
    "        old_inf += aug_inf\n",
    "\n",
    "\n",
    "    #print(\"Seeds=\", Seeds)\n",
    "    #print(\"Inf={:.2f}\".format(MC_IC(net_path, Seeds, mc=1000)[-1]))\n",
    "    \n",
    "    return MC_IC(net_path, Seeds, mc=1000)[-1]"
   ]
  },
  {
   "cell_type": "code",
   "execution_count": 131,
   "metadata": {},
   "outputs": [
    {
     "ename": "KeyboardInterrupt",
     "evalue": "",
     "output_type": "error",
     "traceback": [
      "\u001b[0;31m---------------\u001b[0m",
      "\u001b[0;31mKeyboardInterrupt\u001b[0mTraceback (most recent call last)",
      "\u001b[0;32m<ipython-input-131-21bea3769fcf>\u001b[0m in \u001b[0;36m<module>\u001b[0;34m\u001b[0m\n\u001b[1;32m      2\u001b[0m \u001b[0;34m\u001b[0m\u001b[0m\n\u001b[1;32m      3\u001b[0m \u001b[0;32mfor\u001b[0m \u001b[0mk\u001b[0m \u001b[0;32min\u001b[0m \u001b[0mrange\u001b[0m\u001b[0;34m(\u001b[0m\u001b[0;36m1\u001b[0m\u001b[0;34m,\u001b[0m \u001b[0;36m20\u001b[0m\u001b[0;34m)\u001b[0m\u001b[0;34m:\u001b[0m\u001b[0;34m\u001b[0m\u001b[0;34m\u001b[0m\u001b[0m\n\u001b[0;32m----> 4\u001b[0;31m     \u001b[0mtrue_greedy_re\u001b[0m\u001b[0;34m.\u001b[0m\u001b[0mappend\u001b[0m\u001b[0;34m(\u001b[0m\u001b[0mtrue_greedy\u001b[0m\u001b[0;34m(\u001b[0m\u001b[0mk\u001b[0m\u001b[0;34m)\u001b[0m\u001b[0;34m)\u001b[0m\u001b[0;34m\u001b[0m\u001b[0;34m\u001b[0m\u001b[0m\n\u001b[0m",
      "\u001b[0;32m<ipython-input-129-5dc7448d66a3>\u001b[0m in \u001b[0;36mtrue_greedy\u001b[0;34m(K)\u001b[0m\n\u001b[1;32m     15\u001b[0m                 \u001b[0;31m#S[Seeds+[n]] = 1\u001b[0m\u001b[0;34m\u001b[0m\u001b[0;34m\u001b[0m\u001b[0;34m\u001b[0m\u001b[0m\n\u001b[1;32m     16\u001b[0m                 \u001b[0;31m#inf = IC.run(S)[-1].item()\u001b[0m\u001b[0;34m\u001b[0m\u001b[0;34m\u001b[0m\u001b[0;34m\u001b[0m\u001b[0m\n\u001b[0;32m---> 17\u001b[0;31m                 \u001b[0minf\u001b[0m \u001b[0;34m=\u001b[0m \u001b[0mMC_IC\u001b[0m\u001b[0;34m(\u001b[0m\u001b[0mnet_path\u001b[0m\u001b[0;34m,\u001b[0m \u001b[0mSeeds\u001b[0m\u001b[0;34m+\u001b[0m\u001b[0;34m[\u001b[0m\u001b[0mn\u001b[0m\u001b[0;34m]\u001b[0m\u001b[0;34m,\u001b[0m \u001b[0mmc\u001b[0m\u001b[0;34m=\u001b[0m\u001b[0;36m1000\u001b[0m\u001b[0;34m)\u001b[0m\u001b[0;34m[\u001b[0m\u001b[0;34m-\u001b[0m\u001b[0;36m1\u001b[0m\u001b[0;34m]\u001b[0m\u001b[0;34m\u001b[0m\u001b[0;34m\u001b[0m\u001b[0m\n\u001b[0m\u001b[1;32m     18\u001b[0m                 \u001b[0;32mif\u001b[0m \u001b[0minf\u001b[0m\u001b[0;34m-\u001b[0m\u001b[0mold_inf\u001b[0m \u001b[0;34m>\u001b[0m \u001b[0maug_inf\u001b[0m\u001b[0;34m:\u001b[0m\u001b[0;34m\u001b[0m\u001b[0;34m\u001b[0m\u001b[0m\n\u001b[1;32m     19\u001b[0m                     \u001b[0mnew_node\u001b[0m \u001b[0;34m=\u001b[0m \u001b[0mn\u001b[0m\u001b[0;34m\u001b[0m\u001b[0;34m\u001b[0m\u001b[0m\n",
      "\u001b[0;32m/data/gaofei/Research/DMP/mc_ic.py\u001b[0m in \u001b[0;36mMC_IC\u001b[0;34m(net_path, seed_list, mc)\u001b[0m\n\u001b[1;32m     45\u001b[0m     \u001b[0;32mfor\u001b[0m \u001b[0mi\u001b[0m \u001b[0;32min\u001b[0m \u001b[0mrange\u001b[0m\u001b[0;34m(\u001b[0m\u001b[0mmc\u001b[0m\u001b[0;34m)\u001b[0m\u001b[0;34m:\u001b[0m\u001b[0;34m\u001b[0m\u001b[0;34m\u001b[0m\u001b[0m\n\u001b[1;32m     46\u001b[0m         \u001b[0mic\u001b[0m \u001b[0;34m=\u001b[0m \u001b[0mIC\u001b[0m\u001b[0;34m(\u001b[0m\u001b[0mnet_path\u001b[0m\u001b[0;34m,\u001b[0m \u001b[0mseed_list\u001b[0m\u001b[0;34m)\u001b[0m\u001b[0;34m\u001b[0m\u001b[0;34m\u001b[0m\u001b[0m\n\u001b[0;32m---> 47\u001b[0;31m         \u001b[0mactive_log\u001b[0m\u001b[0;34m.\u001b[0m\u001b[0mappend\u001b[0m\u001b[0;34m(\u001b[0m\u001b[0mic\u001b[0m\u001b[0;34m.\u001b[0m\u001b[0mrun\u001b[0m\u001b[0;34m(\u001b[0m\u001b[0;34m)\u001b[0m\u001b[0;34m)\u001b[0m\u001b[0;34m\u001b[0m\u001b[0;34m\u001b[0m\u001b[0m\n\u001b[0m\u001b[1;32m     48\u001b[0m \u001b[0;34m\u001b[0m\u001b[0m\n\u001b[1;32m     49\u001b[0m     \u001b[0mmax_steps\u001b[0m \u001b[0;34m=\u001b[0m \u001b[0mmax\u001b[0m\u001b[0;34m(\u001b[0m\u001b[0;34m[\u001b[0m\u001b[0mlen\u001b[0m\u001b[0;34m(\u001b[0m\u001b[0mlog\u001b[0m\u001b[0;34m)\u001b[0m \u001b[0;32mfor\u001b[0m \u001b[0mlog\u001b[0m \u001b[0;32min\u001b[0m \u001b[0mactive_log\u001b[0m\u001b[0;34m]\u001b[0m\u001b[0;34m)\u001b[0m\u001b[0;34m\u001b[0m\u001b[0;34m\u001b[0m\u001b[0m\n",
      "\u001b[0;32m/data/gaofei/Research/DMP/mc_ic.py\u001b[0m in \u001b[0;36mrun\u001b[0;34m(self)\u001b[0m\n\u001b[1;32m     36\u001b[0m         \u001b[0;32mwhile\u001b[0m \u001b[0mself\u001b[0m\u001b[0;34m.\u001b[0m\u001b[0mnew_active\u001b[0m\u001b[0;34m.\u001b[0m\u001b[0msum\u001b[0m\u001b[0;34m(\u001b[0m\u001b[0;34m)\u001b[0m \u001b[0;34m>\u001b[0m \u001b[0;36m0\u001b[0m\u001b[0;34m:\u001b[0m\u001b[0;34m\u001b[0m\u001b[0;34m\u001b[0m\u001b[0m\n\u001b[1;32m     37\u001b[0m             \u001b[0mself\u001b[0m\u001b[0;34m.\u001b[0m\u001b[0mlog\u001b[0m\u001b[0;34m.\u001b[0m\u001b[0mappend\u001b[0m\u001b[0;34m(\u001b[0m\u001b[0mself\u001b[0m\u001b[0;34m.\u001b[0m\u001b[0mactive\u001b[0m\u001b[0;34m.\u001b[0m\u001b[0msum\u001b[0m\u001b[0;34m(\u001b[0m\u001b[0;34m)\u001b[0m\u001b[0;34m.\u001b[0m\u001b[0mitem\u001b[0m\u001b[0;34m(\u001b[0m\u001b[0;34m)\u001b[0m\u001b[0;34m)\u001b[0m\u001b[0;34m\u001b[0m\u001b[0;34m\u001b[0m\u001b[0m\n\u001b[0;32m---> 38\u001b[0;31m             \u001b[0mself\u001b[0m\u001b[0;34m.\u001b[0m\u001b[0mforward\u001b[0m\u001b[0;34m(\u001b[0m\u001b[0;34m)\u001b[0m\u001b[0;34m\u001b[0m\u001b[0;34m\u001b[0m\u001b[0m\n\u001b[0m\u001b[1;32m     39\u001b[0m \u001b[0;34m\u001b[0m\u001b[0m\n\u001b[1;32m     40\u001b[0m         \u001b[0;32mreturn\u001b[0m \u001b[0mself\u001b[0m\u001b[0;34m.\u001b[0m\u001b[0mlog\u001b[0m\u001b[0;34m\u001b[0m\u001b[0;34m\u001b[0m\u001b[0m\n",
      "\u001b[0;32m/data/gaofei/Research/DMP/mc_ic.py\u001b[0m in \u001b[0;36mforward\u001b[0;34m(self)\u001b[0m\n\u001b[1;32m     26\u001b[0m         \u001b[0mrandom_P\u001b[0m \u001b[0;34m=\u001b[0m \u001b[0mT\u001b[0m\u001b[0;34m.\u001b[0m\u001b[0mrand\u001b[0m\u001b[0;34m(\u001b[0m\u001b[0mself\u001b[0m\u001b[0;34m.\u001b[0m\u001b[0mE\u001b[0m\u001b[0;34m)\u001b[0m\u001b[0;34m\u001b[0m\u001b[0;34m\u001b[0m\u001b[0m\n\u001b[1;32m     27\u001b[0m         \u001b[0msuccess\u001b[0m \u001b[0;34m=\u001b[0m \u001b[0mself\u001b[0m\u001b[0;34m.\u001b[0m\u001b[0mnew_active\u001b[0m\u001b[0;34m[\u001b[0m\u001b[0mself\u001b[0m\u001b[0;34m.\u001b[0m\u001b[0msrc_nodes\u001b[0m\u001b[0;34m]\u001b[0m \u001b[0;34m*\u001b[0m \u001b[0;34m(\u001b[0m\u001b[0mrandom_P\u001b[0m \u001b[0;34m<\u001b[0m \u001b[0mself\u001b[0m\u001b[0;34m.\u001b[0m\u001b[0mweights\u001b[0m\u001b[0;34m)\u001b[0m\u001b[0;34m.\u001b[0m\u001b[0mfloat\u001b[0m\u001b[0;34m(\u001b[0m\u001b[0;34m)\u001b[0m\u001b[0;34m\u001b[0m\u001b[0;34m\u001b[0m\u001b[0m\n\u001b[0;32m---> 28\u001b[0;31m         \u001b[0msuccess_active\u001b[0m \u001b[0;34m=\u001b[0m \u001b[0;34m(\u001b[0m\u001b[0mscatter_add\u001b[0m\u001b[0;34m(\u001b[0m\u001b[0msuccess\u001b[0m\u001b[0;34m,\u001b[0m \u001b[0mself\u001b[0m\u001b[0;34m.\u001b[0m\u001b[0mtar_nodes\u001b[0m\u001b[0;34m)\u001b[0m \u001b[0;34m>=\u001b[0m \u001b[0;36m1\u001b[0m\u001b[0;34m)\u001b[0m\u001b[0;34m.\u001b[0m\u001b[0mfloat\u001b[0m\u001b[0;34m(\u001b[0m\u001b[0;34m)\u001b[0m\u001b[0;34m\u001b[0m\u001b[0;34m\u001b[0m\u001b[0m\n\u001b[0m\u001b[1;32m     29\u001b[0m \u001b[0;34m\u001b[0m\u001b[0m\n\u001b[1;32m     30\u001b[0m         \u001b[0mactive_all\u001b[0m \u001b[0;34m=\u001b[0m \u001b[0;34m(\u001b[0m\u001b[0;34m(\u001b[0m\u001b[0mself\u001b[0m\u001b[0;34m.\u001b[0m\u001b[0mactive\u001b[0m \u001b[0;34m+\u001b[0m \u001b[0msuccess_active\u001b[0m\u001b[0;34m)\u001b[0m \u001b[0;34m>=\u001b[0m \u001b[0;36m1\u001b[0m\u001b[0;34m)\u001b[0m\u001b[0;34m.\u001b[0m\u001b[0mfloat\u001b[0m\u001b[0;34m(\u001b[0m\u001b[0;34m)\u001b[0m\u001b[0;34m\u001b[0m\u001b[0;34m\u001b[0m\u001b[0m\n",
      "\u001b[0;32m~/Software/anaconda3/lib/python3.7/site-packages/torch_scatter/add.py\u001b[0m in \u001b[0;36mscatter_add\u001b[0;34m(src, index, dim, out, dim_size, fill_value)\u001b[0m\n\u001b[1;32m     70\u001b[0m                [2., 4., 4., 0., 0., 0.]])\n\u001b[1;32m     71\u001b[0m     \"\"\"\n\u001b[0;32m---> 72\u001b[0;31m     \u001b[0msrc\u001b[0m\u001b[0;34m,\u001b[0m \u001b[0mout\u001b[0m\u001b[0;34m,\u001b[0m \u001b[0mindex\u001b[0m\u001b[0;34m,\u001b[0m \u001b[0mdim\u001b[0m \u001b[0;34m=\u001b[0m \u001b[0mgen\u001b[0m\u001b[0;34m(\u001b[0m\u001b[0msrc\u001b[0m\u001b[0;34m,\u001b[0m \u001b[0mindex\u001b[0m\u001b[0;34m,\u001b[0m \u001b[0mdim\u001b[0m\u001b[0;34m,\u001b[0m \u001b[0mout\u001b[0m\u001b[0;34m,\u001b[0m \u001b[0mdim_size\u001b[0m\u001b[0;34m,\u001b[0m \u001b[0mfill_value\u001b[0m\u001b[0;34m)\u001b[0m\u001b[0;34m\u001b[0m\u001b[0;34m\u001b[0m\u001b[0m\n\u001b[0m\u001b[1;32m     73\u001b[0m     \u001b[0;32mreturn\u001b[0m \u001b[0mout\u001b[0m\u001b[0;34m.\u001b[0m\u001b[0mscatter_add_\u001b[0m\u001b[0;34m(\u001b[0m\u001b[0mdim\u001b[0m\u001b[0;34m,\u001b[0m \u001b[0mindex\u001b[0m\u001b[0;34m,\u001b[0m \u001b[0msrc\u001b[0m\u001b[0;34m)\u001b[0m\u001b[0;34m\u001b[0m\u001b[0;34m\u001b[0m\u001b[0m\n",
      "\u001b[0;32m~/Software/anaconda3/lib/python3.7/site-packages/torch_scatter/utils/gen.py\u001b[0m in \u001b[0;36mgen\u001b[0;34m(src, index, dim, out, dim_size, fill_value)\u001b[0m\n\u001b[1;32m     20\u001b[0m     \u001b[0;32mif\u001b[0m \u001b[0mout\u001b[0m \u001b[0;32mis\u001b[0m \u001b[0;32mNone\u001b[0m\u001b[0;34m:\u001b[0m\u001b[0;34m\u001b[0m\u001b[0;34m\u001b[0m\u001b[0m\n\u001b[1;32m     21\u001b[0m         \u001b[0mout_size\u001b[0m \u001b[0;34m=\u001b[0m \u001b[0mlist\u001b[0m\u001b[0;34m(\u001b[0m\u001b[0msrc\u001b[0m\u001b[0;34m.\u001b[0m\u001b[0msize\u001b[0m\u001b[0;34m(\u001b[0m\u001b[0;34m)\u001b[0m\u001b[0;34m)\u001b[0m\u001b[0;34m\u001b[0m\u001b[0;34m\u001b[0m\u001b[0m\n\u001b[0;32m---> 22\u001b[0;31m         \u001b[0mdim_size\u001b[0m \u001b[0;34m=\u001b[0m \u001b[0mmaybe_dim_size\u001b[0m\u001b[0;34m(\u001b[0m\u001b[0mindex\u001b[0m\u001b[0;34m,\u001b[0m \u001b[0mdim_size\u001b[0m\u001b[0;34m)\u001b[0m\u001b[0;34m\u001b[0m\u001b[0;34m\u001b[0m\u001b[0m\n\u001b[0m\u001b[1;32m     23\u001b[0m         \u001b[0mout_size\u001b[0m\u001b[0;34m[\u001b[0m\u001b[0mdim\u001b[0m\u001b[0;34m]\u001b[0m \u001b[0;34m=\u001b[0m \u001b[0mdim_size\u001b[0m\u001b[0;34m\u001b[0m\u001b[0;34m\u001b[0m\u001b[0m\n\u001b[1;32m     24\u001b[0m         \u001b[0mout\u001b[0m \u001b[0;34m=\u001b[0m \u001b[0msrc\u001b[0m\u001b[0;34m.\u001b[0m\u001b[0mnew_full\u001b[0m\u001b[0;34m(\u001b[0m\u001b[0mout_size\u001b[0m\u001b[0;34m,\u001b[0m \u001b[0mfill_value\u001b[0m\u001b[0;34m)\u001b[0m\u001b[0;34m\u001b[0m\u001b[0;34m\u001b[0m\u001b[0m\n",
      "\u001b[0;32m~/Software/anaconda3/lib/python3.7/site-packages/torch_scatter/utils/gen.py\u001b[0m in \u001b[0;36mmaybe_dim_size\u001b[0;34m(index, dim_size)\u001b[0m\n\u001b[1;32m      5\u001b[0m     \u001b[0;32mif\u001b[0m \u001b[0mdim_size\u001b[0m \u001b[0;32mis\u001b[0m \u001b[0;32mnot\u001b[0m \u001b[0;32mNone\u001b[0m\u001b[0;34m:\u001b[0m\u001b[0;34m\u001b[0m\u001b[0;34m\u001b[0m\u001b[0m\n\u001b[1;32m      6\u001b[0m         \u001b[0;32mreturn\u001b[0m \u001b[0mdim_size\u001b[0m\u001b[0;34m\u001b[0m\u001b[0;34m\u001b[0m\u001b[0m\n\u001b[0;32m----> 7\u001b[0;31m     \u001b[0;32mreturn\u001b[0m \u001b[0mindex\u001b[0m\u001b[0;34m.\u001b[0m\u001b[0mmax\u001b[0m\u001b[0;34m(\u001b[0m\u001b[0;34m)\u001b[0m\u001b[0;34m.\u001b[0m\u001b[0mitem\u001b[0m\u001b[0;34m(\u001b[0m\u001b[0;34m)\u001b[0m \u001b[0;34m+\u001b[0m \u001b[0;36m1\u001b[0m \u001b[0;32mif\u001b[0m \u001b[0mindex\u001b[0m\u001b[0;34m.\u001b[0m\u001b[0mnumel\u001b[0m\u001b[0;34m(\u001b[0m\u001b[0;34m)\u001b[0m \u001b[0;34m>\u001b[0m \u001b[0;36m0\u001b[0m \u001b[0;32melse\u001b[0m \u001b[0;36m0\u001b[0m\u001b[0;34m\u001b[0m\u001b[0;34m\u001b[0m\u001b[0m\n\u001b[0m\u001b[1;32m      8\u001b[0m \u001b[0;34m\u001b[0m\u001b[0m\n\u001b[1;32m      9\u001b[0m \u001b[0;34m\u001b[0m\u001b[0m\n",
      "\u001b[0;31mKeyboardInterrupt\u001b[0m: "
     ]
    }
   ],
   "source": [
    "true_greedy_re = []\n",
    "\n",
    "for k in range(1, 20):\n",
    "    true_greedy_re.append(true_greedy(k))"
   ]
  },
  {
   "cell_type": "markdown",
   "metadata": {},
   "source": [
    "# Greedy"
   ]
  },
  {
   "cell_type": "code",
   "execution_count": 2,
   "metadata": {},
   "outputs": [],
   "source": [
    "def greedy(K):\n",
    "    N = IC.N\n",
    "    Seeds = []\n",
    "    old_inf = 0\n",
    "\n",
    "    for i in range(K):\n",
    "        aug_inf = -1\n",
    "        new_node = -1\n",
    "        for n in range(N):\n",
    "            if n not in Seeds:\n",
    "                S = T.zeros(N)\n",
    "                S[Seeds+[n]] = 1\n",
    "                inf = IC.run(S)[-1].item()\n",
    "                if inf-old_inf > aug_inf:\n",
    "                    new_node = n\n",
    "                    aug_inf = inf-old_inf\n",
    "            #if (n+1)%10 == 0:\n",
    "            #    print(n, \"time={:.2f}s\".format(time.time()-t0))\n",
    "        Seeds += [new_node]\n",
    "        old_inf += aug_inf\n",
    "\n",
    "    from mc_ic import MC_IC\n",
    "    import numpy as np\n",
    "\n",
    "    #print(\"Seeds=\", Seeds)\n",
    "    #print(\"Inf={:.2f}\".format(MC_IC(net_path, Seeds, mc=1000)[-1]))\n",
    "    \n",
    "    return MC_IC(net_path, Seeds, mc=1000)[-1]"
   ]
  },
  {
   "cell_type": "code",
   "execution_count": 5,
   "metadata": {},
   "outputs": [],
   "source": [
    "greedy_re = []\n",
    "\n",
    "for k in range(1, 20):\n",
    "    greedy_re.append(greedy(k))"
   ]
  },
  {
   "cell_type": "markdown",
   "metadata": {},
   "source": [
    "# Top_k"
   ]
  },
  {
   "cell_type": "code",
   "execution_count": 59,
   "metadata": {},
   "outputs": [],
   "source": [
    "def top_k(k):\n",
    "    K=k\n",
    "    S = T.rand(IC.N, requires_grad=True)\n",
    "    opt = optim.SGD([S], lr=0.01)\n",
    "\n",
    "    for i in range(150):\n",
    "        opt.zero_grad()\n",
    "        idx = T.argsort(S, descending=True)\n",
    "        Seed = S - (S[idx[K-1]] + S[idx[K]])/2\n",
    "        Seed_list = T.sigmoid(Seed)\n",
    "        Seed_list = K*Seed_list/Seed_list.sum()\n",
    "        Sigmas = IC.run(Seed_list)\n",
    "\n",
    "        loss = -Sigmas[-1]\n",
    "        loss.backward()\n",
    "        opt.step()\n",
    "\n",
    "        #print(Seed_list)\n",
    "        #print(\"Influence={:.4f}\".format(-loss))\n",
    "\n",
    "    #print(Seed_list)\n",
    "    # Final...\n",
    "    idx = T.argsort(S, descending=True)\n",
    "    seed_list = idx[:K]\n",
    "    seed_tensor = T.zeros(IC.N); seed_tensor[seed_list] = 1\n",
    "    Sigmas = IC.run(seed_tensor)\n",
    "    #print(\"Seeds = \", seed_list.tolist())\n",
    "    #print(\"Inf = {}\".format(MC_IC(net_path, seed_list.tolist(), mc=1000)[-1]))\n",
    "    \n",
    "    return MC_IC(net_path, seed_list.tolist(), mc=1000)[-1]"
   ]
  },
  {
   "cell_type": "code",
   "execution_count": 62,
   "metadata": {
    "scrolled": true
   },
   "outputs": [],
   "source": [
    "top_k_re = []\n",
    "for k in range(1, 20):\n",
    "    tmp = []\n",
    "    for i in range(5):\n",
    "        tmp.append(top_k(k))\n",
    "    top_k_re.append(tmp)"
   ]
  },
  {
   "cell_type": "code",
   "execution_count": 63,
   "metadata": {},
   "outputs": [],
   "source": [
    "re2 = np.array(top_k_re)"
   ]
  },
  {
   "cell_type": "markdown",
   "metadata": {},
   "source": [
    "# Gumbel"
   ]
  },
  {
   "cell_type": "code",
   "execution_count": 64,
   "metadata": {},
   "outputs": [],
   "source": [
    "def gumbel(k):\n",
    "    K=k\n",
    "    S = T.rand(IC.N, requires_grad=True)\n",
    "    opt = optim.SGD([S], lr=0.01)\n",
    "\n",
    "    for i in range(150):\n",
    "        opt.zero_grad()\n",
    "        idx = T.argsort(S, descending=True)\n",
    "        Seed = S - (S[idx[K-1]] + S[idx[K]])/2\n",
    "        logits = T.log(T.sigmoid(Seed))\n",
    "        sample = T.nn.functional.gumbel_softmax(T.stack((logits, 1-logits)).t())\n",
    "        Seed_list = sample[:, 1]\n",
    "        Sigmas = IC.run(Seed_list)\n",
    "\n",
    "        loss = -Sigmas[-1]\n",
    "        loss.backward()\n",
    "        opt.step()\n",
    "\n",
    "        #print(Seed_list)\n",
    "        #print(\"Influence={:.4f}\".format(-loss))\n",
    "\n",
    "    #print(Seed_list)\n",
    "    # Final...\n",
    "    idx = T.argsort(S, descending=True)\n",
    "    seed_list = idx[:K]\n",
    "    seed_tensor = T.zeros(IC.N); seed_tensor[seed_list] = 1\n",
    "    Sigmas = IC.run(seed_tensor)\n",
    "    #print(\"Seeds = \", seed_list.tolist())\n",
    "    #print(\"Inf = {}\".format(MC_IC(net_path, seed_list.tolist(), mc=1000)[-1]))\n",
    "    \n",
    "    return MC_IC(net_path, seed_list.tolist(), mc=1000)[-1]"
   ]
  },
  {
   "cell_type": "code",
   "execution_count": 65,
   "metadata": {},
   "outputs": [
    {
     "name": "stdout",
     "output_type": "stream",
     "text": [
      "[1.384, 2.17, 2.399, 1.614, 1.773]\n",
      "[3.113, 2.211, 2.455, 4.927, 4.288]\n",
      "[9.19, 3.864, 11.129, 4.336, 6.437]\n",
      "[12.555, 7.444, 11.335, 7.497, 13.227]\n",
      "[7.966, 8.991, 8.578, 7.658, 6.647]\n",
      "[10.816, 19.082, 10.031, 15.153, 8.343]\n",
      "[16.798, 9.367, 22.248, 10.203, 20.415]\n",
      "[12.003, 13.33, 17.746, 14.218, 13.811]\n",
      "[14.793, 17.031, 22.15, 19.843, 20.534]\n",
      "[12.984, 12.346, 15.231, 20.807, 22.82]\n",
      "[18.116, 14.621, 19.615, 17.523, 23.138]\n",
      "[22.702, 22.347, 24.38, 14.224, 15.833]\n",
      "[25.088, 16.657, 26.998, 23.718, 27.058]\n",
      "[21.422, 24.08, 27.971, 15.618, 16.455]\n",
      "[28.977, 28.766, 20.862, 23.481, 29.148]\n",
      "[24.951, 31.065, 25.78, 35.362, 23.873]\n",
      "[27.893, 35.903, 25.357, 23.429, 37.414]\n",
      "[30.737, 27.447, 25.743, 36.543, 35.045]\n",
      "[33.916, 29.875, 38.444, 36.146, 30.262]\n"
     ]
    }
   ],
   "source": [
    "gumbel_re = []\n",
    "for k in range(1, 20):\n",
    "    tmp = []\n",
    "    for i in range(5):\n",
    "        tmp.append(gumbel(k))\n",
    "    print(tmp)\n",
    "    gumbel_re.append(tmp)"
   ]
  },
  {
   "cell_type": "code",
   "execution_count": 66,
   "metadata": {},
   "outputs": [],
   "source": [
    "re3 = np.array(gumbel_re)"
   ]
  },
  {
   "cell_type": "markdown",
   "metadata": {},
   "source": [
    "# GCN"
   ]
  },
  {
   "cell_type": "code",
   "execution_count": 81,
   "metadata": {},
   "outputs": [],
   "source": [
    "from model import GCNOnly\n",
    "from torch_geometric.data import Data\n"
   ]
  },
  {
   "cell_type": "code",
   "execution_count": 105,
   "metadata": {},
   "outputs": [],
   "source": [
    "def GCN_K(k):\n",
    "    K=k\n",
    "    lr = 0.01\n",
    "    data = Data(x=IC.d.unsqueeze(1), edge_index=T.stack((IC.src_nodes, IC.tar_nodes)))\n",
    "    model = GCNOnly(nfeat=1,\n",
    "            nhid=32,\n",
    "            nout=16)\n",
    "    opt = optim.Adam(model.parameters(), lr=0.01)\n",
    "\n",
    "    for i in range(150):\n",
    "        opt.zero_grad()\n",
    "        \n",
    "        S = model(data).squeeze()\n",
    "#         idx = T.argsort(S, descending=True)\n",
    "#         Seed = S - (S[idx[K-1]] + S[idx[K]])/2\n",
    "#         logits = T.log(T.sigmoid(Seed))\n",
    "#         sample = T.nn.functional.gumbel_softmax(T.stack((logits, 1-logits)).t())\n",
    "#         Seed_list = sample[:, 1]\n",
    "        \n",
    "#         Sigmas = IC.run(Seed_list)\n",
    "        Sigmas = IC.run(S)\n",
    "\n",
    "        loss = -Sigmas[-1] + T.pow(S.sum()-K, 2)\n",
    "        loss.backward()\n",
    "        opt.step()\n",
    "\n",
    "        #print(Seed_list)\n",
    "        #print(\"Influence={:.4f}\".format(-loss))\n",
    "\n",
    "    #print(Seed_list)\n",
    "    # Final...\n",
    "    idx = T.argsort(S, descending=True)\n",
    "    seed_list = idx[:K]\n",
    "    seed_tensor = T.zeros(IC.N); seed_tensor[seed_list] = 1\n",
    "    Sigmas = IC.run(seed_tensor)\n",
    "    #print(\"Seeds = \", seed_list.tolist())\n",
    "    #print(\"Inf = {}\".format(MC_IC(net_path, seed_list.tolist(), mc=1000)[-1]))\n",
    "    \n",
    "    return MC_IC(net_path, seed_list.tolist(), mc=1000)[-1]"
   ]
  },
  {
   "cell_type": "code",
   "execution_count": 119,
   "metadata": {
    "scrolled": false
   },
   "outputs": [
    {
     "name": "stdout",
     "output_type": "stream",
     "text": [
      "[8.479, 8.389, 10.432, 10.519, 10.449, 10.405, 10.519, 10.79, 10.749, 10.478]\n",
      "[19.197, 18.874, 18.923, 19.14, 19.036, 19.281, 19.082, 17.961, 17.803, 17.296]\n",
      "[24.463, 24.932, 24.579, 24.528, 25.113, 25.21, 24.876, 24.613, 24.506, 24.039]\n",
      "[27.591, 27.669, 28.189, 28.183, 27.515, 27.664, 28.111, 27.89, 27.177, 28.017]\n",
      "[31.019, 30.698, 30.755, 31.277, 31.056, 30.605, 30.279, 30.484, 30.347, 31.042]\n",
      "[33.317, 33.46, 33.408, 33.308, 33.269, 33.218, 33.437, 32.713, 33.357, 33.266]\n",
      "[35.655, 35.691, 35.602, 35.521, 35.577, 35.44, 35.487, 35.572, 35.398, 35.074]\n",
      "[37.578, 37.477, 37.517, 37.169, 37.46, 37.957, 37.831, 37.39, 37.064, 37.421]\n",
      "[38.936, 38.737, 38.52, 38.923, 38.806, 38.585, 39.042, 38.816, 38.55, 37.989]\n",
      "[40.189, 40.049, 40.141, 40.188, 40.516, 39.886, 39.893, 40.349, 40.153, 40.051]\n",
      "[41.238, 41.342, 41.674, 41.297, 41.066, 42.103, 41.884, 41.519, 41.15, 41.472]\n",
      "[43.182, 43.268, 42.879, 43.062, 43.213, 43.126, 42.502, 43.116, 42.032, 43.237]\n",
      "[43.42, 44.434, 43.831, 44.664, 43.958, 44.091, 44.111, 43.699, 43.432, 44.308]\n",
      "[44.618, 44.794, 45.118, 45.619, 45.38, 45.738, 45.022, 44.875, 44.847, 45.566]\n",
      "[46.902, 46.557, 46.037, 47.307, 46.992, 46.235, 46.282, 46.048, 47.117, 46.569]\n",
      "[48.175, 48.244, 47.82, 47.8, 47.881, 48.075, 47.406, 47.581, 47.146, 47.995]\n",
      "[48.907, 48.633, 48.885, 47.997, 47.992, 48.305, 48.5, 48.509, 47.631, 49.115]\n",
      "[48.601, 49.247, 49.332, 50.256, 49.025, 49.127, 50.208, 48.872, 49.601, 49.375]\n",
      "[51.33, 49.926, 50.798, 51.578, 49.904, 51.472, 50.919, 50.546, 51.291, 50.871]\n"
     ]
    }
   ],
   "source": [
    "gcn_re = []\n",
    "for k in range(1, 20):\n",
    "    tmp = []\n",
    "    for i in range(10):\n",
    "        tmp.append(GCN_K(k))\n",
    "    print(tmp)\n",
    "    gcn_re.append(tmp)"
   ]
  },
  {
   "cell_type": "code",
   "execution_count": 120,
   "metadata": {},
   "outputs": [],
   "source": [
    "re4 = np.array(gcn_re)"
   ]
  },
  {
   "cell_type": "markdown",
   "metadata": {},
   "source": [
    "# Penal"
   ]
  },
  {
   "cell_type": "code",
   "execution_count": 121,
   "metadata": {},
   "outputs": [],
   "source": [
    "def Penal_K(k):\n",
    "    K=k\n",
    "    lr = 0.01\n",
    "    S = T.rand(IC.N, requires_grad=True)\n",
    "    opt = optim.SGD([S], lr=lr)\n",
    "\n",
    "    for i in range(150):\n",
    "        opt.zero_grad()\n",
    "        \n",
    "        Seed = T.sigmoid(S)\n",
    "\n",
    "        Sigmas = IC.run(Seed)\n",
    "\n",
    "        loss = -Sigmas[-1] + T.pow(Seed.sum()-K, 2)\n",
    "        loss.backward()\n",
    "        opt.step()\n",
    "\n",
    "        #print(Seed_list)\n",
    "        #print(\"Influence={:.4f}\".format(-loss))\n",
    "\n",
    "    #print(Seed_list)\n",
    "    # Final...\n",
    "    idx = T.argsort(S, descending=True)\n",
    "    seed_list = idx[:K]\n",
    "    seed_tensor = T.zeros(IC.N); seed_tensor[seed_list] = 1\n",
    "    Sigmas = IC.run(seed_tensor)\n",
    "    #print(\"Seeds = \", seed_list.tolist())\n",
    "    #print(\"Inf = {}\".format(MC_IC(net_path, seed_list.tolist(), mc=1000)[-1]))\n",
    "    \n",
    "    return MC_IC(net_path, seed_list.tolist(), mc=1000)[-1]"
   ]
  },
  {
   "cell_type": "code",
   "execution_count": 122,
   "metadata": {},
   "outputs": [
    {
     "name": "stdout",
     "output_type": "stream",
     "text": [
      "[10.699, 8.199, 10.291, 10.783, 10.576, 10.605, 10.164, 10.22, 10.632, 10.236]\n",
      "[19.356, 19.054, 19.139, 19.285, 18.989, 18.827, 18.838, 19.164, 18.987, 19.207]\n",
      "[23.657, 25.173, 22.824, 25.001, 24.795, 22.945, 21.12, 24.849, 24.784, 24.69]\n",
      "[27.675, 28.217, 27.544, 28.239, 25.468, 27.944, 26.487, 26.486, 27.766, 27.538]\n",
      "[30.174, 30.998, 30.473, 30.638, 30.644, 30.098, 31.32, 30.387, 31.125, 30.387]\n",
      "[32.632, 32.193, 33.295, 33.553, 33.438, 32.805, 32.839, 33.34, 33.685, 32.597]\n",
      "[35.017, 35.469, 35.818, 35.829, 34.755, 34.377, 35.507, 34.738, 35.296, 35.006]\n",
      "[36.692, 37.587, 37.057, 37.474, 36.854, 37.255, 36.697, 36.99, 36.745, 37.485]\n",
      "[38.735, 39.18, 39.56, 38.597, 38.845, 38.034, 39.105, 39.527, 37.216, 38.964]\n",
      "[39.06, 40.889, 41.684, 39.42, 40.511, 41.065, 39.957, 41.307, 39.157, 40.543]\n",
      "[41.501, 41.982, 41.896, 40.658, 41.209, 43.024, 41.173, 41.817, 41.93, 40.824]\n",
      "[42.242, 44.246, 42.923, 42.864, 42.958, 44.091, 40.572, 43.997, 43.059, 41.644]\n",
      "[44.348, 43.47, 43.897, 44.422, 43.604, 42.583, 44.49, 44.243, 43.232, 44.867]\n",
      "[44.32, 45.697, 44.357, 44.711, 46.039, 44.687, 42.852, 43.989, 43.793, 44.788]\n",
      "[46.343, 45.857, 46.96, 43.955, 46.97, 45.733, 45.426, 45.541, 46.145, 47.133]\n",
      "[46.049, 46.78, 46.514, 46.98, 46.733, 45.902, 46.034, 46.302, 46.263, 46.098]\n",
      "[46.238, 47.108, 46.672, 46.091, 48.333, 45.445, 46.284, 46.66, 47.546, 46.346]\n",
      "[46.518, 47.508, 48.415, 46.605, 47.679, 48.68, 48.072, 47.615, 49.338, 47.667]\n",
      "[48.468, 47.797, 47.867, 48.066, 46.749, 48.142, 49.059, 48.331, 49.303, 49.108]\n"
     ]
    }
   ],
   "source": [
    "penal_re = []\n",
    "for k in range(1, 20):\n",
    "    tmp = []\n",
    "    for i in range(10):\n",
    "        tmp.append(Penal_K(k))\n",
    "    print(tmp)\n",
    "    penal_re.append(tmp)"
   ]
  },
  {
   "cell_type": "code",
   "execution_count": 123,
   "metadata": {},
   "outputs": [],
   "source": [
    "re5 = np.array(penal_re)"
   ]
  },
  {
   "cell_type": "markdown",
   "metadata": {},
   "source": [
    "# PLT"
   ]
  },
  {
   "cell_type": "code",
   "execution_count": 124,
   "metadata": {},
   "outputs": [],
   "source": [
    "import matplotlib.pyplot as plt"
   ]
  },
  {
   "cell_type": "code",
   "execution_count": 136,
   "metadata": {},
   "outputs": [
    {
     "data": {
      "image/png": "[encoded data removed]",
      "text/plain": [
       "<Figure size 720x936 with 1 Axes>"
      ]
     },
     "metadata": {
      "needs_background": "light"
     },
     "output_type": "display_data"
    }
   ],
   "source": [
    "plt.figure(figsize=(10,13))\n",
    "plt.plot(range(1, len(true_greedy_re)+1), np.array(true_greedy_re))\n",
    "plt.plot(range(1, 20), np.array(greedy_re))\n",
    "plt.plot(range(1, 20), np.mean(re2, axis=1))\n",
    "plt.plot(range(1, 20), np.mean(re3, axis=1))\n",
    "plt.plot(range(1, 20), np.mean(re4, axis=1), marker=\"o\")\n",
    "plt.plot(range(1, 20), np.mean(re5, axis=1), marker=\"*\")\n",
    "\n",
    "plt.xticks(range(1, 20, 2))\n",
    "plt.legend([\"True\", \"Greedy\", \"Top_K\", \"Gumbel\", \"GCN_penal\", \"Penal\"])\n",
    "plt.xlabel(\"# Seeds\")\n",
    "plt.ylabel(\"Influence\")\n",
    "\n",
    "plt.grid(True)\n",
    "plt.show()"
   ]
  }
 ],
 "metadata": {
  "kernelspec": {
   "display_name": "Python 3",
   "language": "python",
   "name": "python3"
  },
  "language_info": {
   "codemirror_mode": {
    "name": "ipython",
    "version": 3
   },
   "file_extension": ".py",
   "mimetype": "text/x-python",
   "name": "python",
   "nbconvert_exporter": "python",
   "pygments_lexer": "ipython3",
   "version": "3.7.2"
  },
  "latex_envs": {
   "LaTeX_envs_menu_present": true,
   "autoclose": false,
   "autocomplete": true,
   "bibliofile": "biblio.bib",
   "cite_by": "apalike",
   "current_citInitial": 1,
   "eqLabelWithNumbers": true,
   "eqNumInitial": 1,
   "hotkeys": {
    "equation": "Ctrl-E",
    "itemize": "Ctrl-I"
   },
   "labels_anchors": false,
   "latex_user_defs": false,
   "report_style_numbering": false,
   "user_envs_cfg": false
  },
  "toc": {
   "base_numbering": 1,
   "nav_menu": {},
   "number_sections": true,
   "sideBar": true,
   "skip_h1_title": false,
   "title_cell": "Table of Contents",
   "title_sidebar": "Contents",
   "toc_cell": false,
   "toc_position": {},
   "toc_section_display": true,
   "toc_window_display": true
  }
 },
 "nbformat": 4,
 "nbformat_minor": 2
}
